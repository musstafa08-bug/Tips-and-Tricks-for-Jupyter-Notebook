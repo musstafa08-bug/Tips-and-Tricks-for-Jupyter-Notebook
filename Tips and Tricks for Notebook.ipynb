{
 "cells": [
  {
   "cell_type": "markdown",
   "metadata": {},
   "source": [
    "## About Jupyter Notebook\n",
    " \n",
    "It is a client-server based application used for running documents in browser.<br>\n",
    "\n",
    "These document contains code as well as text based elements like heading, paragraphs, text etc."
   ]
  },
  {
   "cell_type": "markdown",
   "metadata": {},
   "source": [
    "## Shell Command to know current working directory"
   ]
  },
  {
   "cell_type": "code",
   "execution_count": 5,
   "metadata": {},
   "outputs": [
    {
     "data": {
      "text/plain": [
       "'C:\\\\Users\\\\OMEN'"
      ]
     },
     "execution_count": 5,
     "metadata": {},
     "output_type": "execute_result"
    }
   ],
   "source": [
    "%pwd"
   ]
  },
  {
   "cell_type": "markdown",
   "metadata": {},
   "source": [
    "## Auto Fill Feature\n",
    "\n",
    "### Step 1: Go to anaconda prompt<br>\n",
    "### Step 2: Then run the following command:<br>\n",
    "## 'pip install jupyter_contrib_nbextensions'<br>\n",
    "### Step 3: After this run the following command:<br>\n",
    "## 'jupyter contrib nbextension install --system'"
   ]
  },
  {
   "cell_type": "markdown",
   "metadata": {},
   "source": [
    "## Most frequent shortcuts for Jupyter Notebook "
   ]
  },
  {
   "cell_type": "markdown",
   "metadata": {},
   "source": [
    "<ol start = 1>\n",
    "    <li> ESC + h: Show all the shortcuts available in notebook</li>\n",
    "    <li> ESC + A: Insert a new cell above</li>\n",
    "    <li> ESC + B: Insert a new cell above</li>\n",
    "    <li> ESC + M: Change the type of cell to Markdown</li>\n",
    "    <li> ESC + Y: Change the type of cell to Code</li>\n",
    "    <li> ESC + X: Cut the selected cells</li>\n",
    "    <li> ESC + Z: Undo the deletion of cells</li>   \n",
    "    <li> Shift + Up/Down Arrow: Select multiple notebook cells at the same time</li>\n",
    "    <li> Shift + Space: Scroll notebook down</li>\n",
    "    <li> Shift + Enter: Run the current cell and move to the next cell</li>\n",
    "    <li> Ctrl + Enter: To run all the selected cells</li>\n",
    "    <li> Ctrl + S: Save the notebook</li>\n",
    "      \n",
    "        \n",
    "        \n",
    "        \n",
    "        \n",
    "        \n",
    "        \n",
    "        "
   ]
  },
  {
   "cell_type": "markdown",
   "metadata": {},
   "source": [
    "## To change the Theme of Notebook"
   ]
  },
  {
   "cell_type": "markdown",
   "metadata": {},
   "source": [
    "### Step 1:Open your command prompt.<br>\n",
    "\n",
    "### Step 2: Run the following command<br>\n",
    "## ---> conda install jupyterthemes<br>\n",
    "###                       OR <br>\n",
    "## ---> pip install jupyterthemes<br>\n",
    "### Step 3: Then change your theme with<br>\n",
    "##  ---> jt -t themename\n",
    "\n",
    "\n",
    "\n",
    "\n",
    "## List of available themes in Notebook:\n",
    "\n",
    "<ol start = 1>\n",
    "    <li> chesterish</li>\n",
    "    <li> grade3</li>\n",
    "    <li> gruvboxd</li>\n",
    "    <li> gruvboxl</li>\n",
    "    <li> monokai</li>\n",
    "    <li> oceans16</li>\n",
    "    <li> onedork</li>\n",
    "    <li> solarizedd</li>\n",
    "    <li> solarizedl</li>"
   ]
  },
  {
   "cell_type": "markdown",
   "metadata": {},
   "source": [
    "## To get default theme back"
   ]
  },
  {
   "cell_type": "markdown",
   "metadata": {},
   "source": [
    "### Step 1: Close the Notebook<br>\n",
    "### Step 2: Open the command prompt<br>\n",
    "### Step 3: RUn the following command<br>\n",
    "## jt -r\n",
    "### Now open notebook again and you will see that notebook theme is set to default.\n"
   ]
  },
  {
   "cell_type": "code",
   "execution_count": null,
   "metadata": {},
   "outputs": [],
   "source": []
  },
  {
   "cell_type": "markdown",
   "metadata": {},
   "source": []
  }
 ],
 "metadata": {
  "kernelspec": {
   "display_name": "Python 3",
   "language": "python",
   "name": "python3"
  },
  "language_info": {
   "codemirror_mode": {
    "name": "ipython",
    "version": 3
   },
   "file_extension": ".py",
   "mimetype": "text/x-python",
   "name": "python",
   "nbconvert_exporter": "python",
   "pygments_lexer": "ipython3",
   "version": "3.7.4"
  },
  "toc": {
   "base_numbering": 1,
   "nav_menu": {},
   "number_sections": false,
   "sideBar": true,
   "skip_h1_title": false,
   "title_cell": "Table of Contents",
   "title_sidebar": "Contents",
   "toc_cell": false,
   "toc_position": {},
   "toc_section_display": true,
   "toc_window_display": false
  }
 },
 "nbformat": 4,
 "nbformat_minor": 4
}
